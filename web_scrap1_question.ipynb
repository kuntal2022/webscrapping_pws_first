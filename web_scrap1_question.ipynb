{
 "cells": [
  {
   "cell_type": "markdown",
   "id": "2b7dadfc",
   "metadata": {},
   "source": [
    "# Q1. What is Web Scraping? Why is it Used? Give three areas where Web Scraping is used to get data.\n",
    "\n",
    "\n",
    "# ANS\n",
    "\n",
    "### Webscraping:\n",
    ">Web scraping is an automatic method to obtain large amounts of data from websites. Most of this data is unstructured data in an HTML format which is then converted into structured data in a spreadsheet or a database so that it can be used in various applications. There are many different ways to perform web scraping to obtain data from websites.\n",
    "\n",
    "\n",
    "### It Helps:\n",
    ">Web scraping helps fetch data (like emails, phone numbers, articles, etc.) from web pages and organize it into certain formats like Excel, CSV or HTML, etc. See how Wikipedia explains web scraping: “The content of a page may be parsed, searched, reformatted, its data copied into a spreadsheet or loaded into a database.\n",
    "\n",
    "### 3 Areas\n",
    "* In the retail industry\n",
    "> There are various ways through which data from web scraping can be used in the retail industry. For example, it can be used in competitor price monitoring since manually tracking prices can be tedious and time-consuming.\n",
    "\n",
    "*  In financial research\n",
    "> The applications of web scraping can also extend to the financial field. In this case, data from web scraping is used in market data aggregation to yield meaningful intelligence of equity research. Moreover, it’s also used for extracting financial statements to evaluate the health of an enterprise and offer advice.\n",
    "\n",
    "* In Data Science\n",
    "> Data science also uses web scraping to yield accurate time analytics to offer timely insights as they are needed.\n",
    "In fact, the real-time score is also essential for financial institutions as they can quickly make decisions on credit matters. It also helps with predictive analysis and natural language processing.\n",
    "\n",
    "\n",
    "* Other than these (In Marketing and sales,  In risk management) "
   ]
  },
  {
   "cell_type": "markdown",
   "id": "63e8a3aa",
   "metadata": {},
   "source": [
    "# Q2. What are the different methods used for Web Scraping? \n",
    "\n",
    "# ANS\n",
    "#### The most common techniques used for Web Scraping are\n",
    "* Human copy-and-paste.\n",
    "* Text pattern matching.\n",
    "* HTTP programming.\n",
    "* HTML parsing.\n",
    "* DOM parsing.\n",
    "* Vertical aggregation.\n",
    "* Semantic annotation recognizing.\n",
    "* Computer vision web-page analysis."
   ]
  },
  {
   "cell_type": "markdown",
   "id": "62d8eecc",
   "metadata": {},
   "source": [
    "# Q3. What is Beautiful Soup? Why is it used?\n",
    "\n",
    "# ANS\n",
    "> Beautiful Soup is a python package which helps you pull particular content from a webpage, remove the HTML markup, and save the information. It is a tool for web scraping that helps you clean up and parse the documents you have pulled down from the web."
   ]
  },
  {
   "cell_type": "markdown",
   "id": "596280cc",
   "metadata": {},
   "source": [
    "#  Q4. Why is flask used in this Web Scraping project?\n",
    "\n",
    "# ANS\n",
    "\n",
    "> Flask is a lightweight framework to build websites. It helps to automatically create a user interface after using te render_template, this command will fetch the python file with html file to get and return the input and result in well decorated manner, also we can run our created application related to web scrapping throgh flask"
   ]
  },
  {
   "cell_type": "markdown",
   "id": "9cc11878",
   "metadata": {},
   "source": [
    "# Q5. Write the names of AWS services used in this project. Also, explain the use of each service.\n",
    "\n",
    "\n",
    "# ANS\n",
    "\n",
    "* Elastic Beanstalk\n",
    "* CodePipeline\n",
    "This 2 services we used \n",
    "\n",
    "### CodePipeline:\n",
    "It helps to connect the aws with git repo where we have written our code with the Beanstalk\n",
    "\n",
    "\n",
    "### Elastic Beanstalk:\n",
    "It is a cloud computer which run the code or application as in deployment form"
   ]
  },
  {
   "cell_type": "code",
   "execution_count": null,
   "id": "720046f8",
   "metadata": {},
   "outputs": [],
   "source": []
  }
 ],
 "metadata": {
  "kernelspec": {
   "display_name": "Python 3 (ipykernel)",
   "language": "python",
   "name": "python3"
  },
  "language_info": {
   "codemirror_mode": {
    "name": "ipython",
    "version": 3
   },
   "file_extension": ".py",
   "mimetype": "text/x-python",
   "name": "python",
   "nbconvert_exporter": "python",
   "pygments_lexer": "ipython3",
   "version": "3.9.13"
  }
 },
 "nbformat": 4,
 "nbformat_minor": 5
}
